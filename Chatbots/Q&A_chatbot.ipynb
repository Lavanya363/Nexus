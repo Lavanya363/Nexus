{
  "nbformat": 4,
  "nbformat_minor": 0,
  "metadata": {
    "colab": {
      "provenance": [],
      "gpuType": "T4"
    },
    "kernelspec": {
      "name": "python3",
      "display_name": "Python 3"
    },
    "language_info": {
      "name": "python"
    },
    "accelerator": "GPU"
  },
  "cells": [
    {
      "cell_type": "markdown",
      "source": [],
      "metadata": {
        "id": "uQvm_ECcurmq"
      }
    },
    {
      "cell_type": "code",
      "source": [
        "import re\n",
        "from fuzzywuzzy import process\n",
        "knowledge_base = {\n",
        "    \"application deadline\": \"The application deadline is December 1st for regular decision.\",\n",
        "    \"application requirements\": \"You'll need to submit your transcripts, test scores, essays, and letters of recommendation.\",\n",
        "    \"admission requirements\": \" The requirements vary depending on your program of interest, but generally include transcripts, test scores, essays, and letters of recommendation. You can find more specific details on the college website.\",\n",
        "    \"canteen\": \"The canteen offers a variety of options, including vegetarian and healthy choices. There are also several cafes and restaurants on campus if you're looking for something different.\",\n",
        "    \"professors\": \" The faculty at MIT are highly qualified and passionate about their subjects. They are generally approachable and supportive of their students.\",\n",
        "    \"research opportunities for undergraduates\": \"Yes, several departments offer research opportunities for students. You can talk to your professors or department head to learn more about available options.\",\n",
        "    \"labs\": \" The labs are modern and well-equipped with the latest technology. You'll have access to all the resources you need for your studies and research.\",\n",
        "    \"seminars and events\": \" Yes, the college regularly hosts lectures, workshops, and seminars by renowned scholars and professionals. It's a great way to learn from experts and explore new ideas.\",\n",
        "    \"financial aid\": \"The college offers various financial aid options, including scholarships, grants, and work-study programs. Be sure to check the college's financial aid office for more information.\",\n",
        "    \"housing options\": \"There are several housing options available, including on-campus dormitories and off-campus apartments. The college's housing office can provide you with more details and assistance in finding suitable accommodation.\",\n",
        "}\n",
        "conversation_history = []\n",
        "user_info = {}  # Store collected user information for personalization\n",
        "def greet():\n",
        "    print(\"Welcome to the College Admission Q&A Bot! I'm here to help answer your questions about the application process.\")\n",
        "    ask_user_name()  # Collect user's name for personalization\n",
        "def ask_user_name():\n",
        "    name = input(\"Before we start, could you please tell me your name? \")\n",
        "    user_info[\"name\"] = name\n",
        "    print(f\"Nice to meet you, {name}! Feel free to ask me any questions about college admission.\")\n",
        "def handle_question(question):\n",
        "    # Try exact matching first\n",
        "    for keyword in knowledge_base:\n",
        "        if re.search(keyword, question, re.IGNORECASE):\n",
        "            response = knowledge_base[keyword]\n",
        "            try:\n",
        "                response = personalize_response(response, conversation_history, user_info)\n",
        "            except KeyError:\n",
        "                pass  # Handle cases where personalization isn't possible\n",
        "            return response\n",
        "    # If exact match not found, try fuzzy matching\n",
        "    best_match, score = process.extractOne(question, knowledge_base.keys())\n",
        "    if score > 80:  # Adjust threshold as needed\n",
        "        response = knowledge_base[best_match]\n",
        "        try:\n",
        "            response = personalize_response(response, conversation_history, user_info)\n",
        "        except KeyError:\n",
        "            pass  # Handle cases where personalization isn't possible\n",
        "        return response\n",
        "    return \"I'm not sure I understand that question. Could you rephrase it or try asking something different?\"\n",
        "def personalize_response(response, conversation_history, user_info):\n",
        "    # Implement logic to tailor responses based on previous interactions and user information\n",
        "    if \"name\" in user_info:\n",
        "        response = response.replace(\"you\", user_info[\"name\"])  # Address user by name.\n",
        "    return response\n",
        "def main():\n",
        "    greet()\n",
        "    while True:\n",
        "        question = input(\"You: \")\n",
        "        answer = handle_question(question)\n",
        "        print(\"Bot:\", answer)\n",
        "        conversation_history.append((question, answer))\n",
        "        if question.lower() in [\"goodbye\", \"bye\", \"quit\"]:\n",
        "            print(\"Thanks for using the College Admission Q&A Bot, \" + user_info.get(\"name\", \"friend\") + \"! Have a great day.\")\n",
        "            break\n",
        "if __name__ == \"__main__\":\n",
        "    main()"
      ],
      "metadata": {
        "id": "36wU0oqialli",
        "colab": {
          "base_uri": "https://localhost:8080/"
        },
        "outputId": "39acbf35-4a37-4dc1-f856-09f974e8445b"
      },
      "execution_count": 6,
      "outputs": [
        {
          "output_type": "stream",
          "name": "stderr",
          "text": [
            "/usr/local/lib/python3.10/dist-packages/fuzzywuzzy/fuzz.py:11: UserWarning: Using slow pure-python SequenceMatcher. Install python-Levenshtein to remove this warning\n",
            "  warnings.warn('Using slow pure-python SequenceMatcher. Install python-Levenshtein to remove this warning')\n"
          ]
        },
        {
          "output_type": "stream",
          "name": "stdout",
          "text": [
            "Welcome to the College Admission Q&A Bot! I'm here to help answer your questions about the application process.\n",
            "Before we start, could you please tell me your name? Lavanya\n",
            "Nice to meet you, Lavanya! Feel free to ask me any questions about college admission.\n",
            "You:  What are the application requirements?\n",
            "Bot: You'll need to submit Lavanyar transcripts, test scores, essays, and letters of recommendation.\n",
            "You: Can you tell me about the professors?\n",
            "Bot:  The faculty at MIT are highly qualified and passionate about their subjects. They are generally approachable and supportive of their students.\n",
            "You: How about research opportunities for undergraduates?\n",
            "Bot: Yes, several departments offer research opportunities for students. You can talk to Lavanyar professors or department head to learn more about available options.\n",
            "You: What's the deadline for applications?\n",
            "Bot: The application deadline is December 1st for regular decision.\n",
            "You: Can you tell me about financial aid options?\n",
            "Bot: The college offers various financial aid options, including scholarships, grants, and work-study programs. Be sure to check the college's financial aid office for more information.\n",
            "You: What housing options are available?\n",
            "Bot: There are several housing options available, including on-campus dormitories and off-campus apartments. The college's housing office can provide Lavanya with more details and assistance in finding suitable accommodation.\n",
            "You:  Are there any seminars or events organized by the college?\n",
            "Bot:  Yes, the college regularly hosts lectures, workshops, and seminars by renowned scholars and professionals. It's a great way to learn from experts and explore new ideas.\n",
            "You: Goodbye\n",
            "Bot: I'm not sure I understand that question. Could you rephrase it or try asking something different?\n",
            "Thanks for using the College Admission Q&A Bot, Lavanya! Have a great day.\n"
          ]
        }
      ]
    },
    {
      "cell_type": "code",
      "source": [],
      "metadata": {
        "id": "9M7T2OqEal3_"
      },
      "execution_count": null,
      "outputs": []
    },
    {
      "cell_type": "code",
      "source": [],
      "metadata": {
        "id": "J_rJeywEal63"
      },
      "execution_count": null,
      "outputs": []
    },
    {
      "cell_type": "code",
      "source": [],
      "metadata": {
        "id": "eEx47rIOal9e"
      },
      "execution_count": null,
      "outputs": []
    }
  ]
}