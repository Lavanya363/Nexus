{
  "nbformat": 4,
  "nbformat_minor": 0,
  "metadata": {
    "colab": {
      "provenance": []
    },
    "kernelspec": {
      "name": "python3",
      "display_name": "Python 3"
    },
    "language_info": {
      "name": "python"
    }
  },
  "cells": [
    {
      "cell_type": "code",
      "execution_count": null,
      "metadata": {
        "colab": {
          "base_uri": "https://localhost:8080/"
        },
        "id": "07-ezF1ThBam",
        "outputId": "f8b2433e-6d7c-4f20-afda-79ac092d5901"
      },
      "outputs": [
        {
          "output_type": "stream",
          "name": "stdout",
          "text": [
            "Bot: Hi there! What can you do?\n",
            "You: I want some information.\n",
            "Chatbot: I am here to assist you 24/7. How can I help you today?\n",
            "Chatbot: Is there anything else I can assist you with? (Yes/No): Yes\n",
            "You: How old are you?\n",
            "Chatbot: Hello! I'm your professional chatbot.\n",
            "Chatbot: Is there anything else I can assist you with? (Yes/No): Yes\n",
            "You: What's your name?\n",
            "Chatbot: As a chatbot, I don't have a gender. What else would you like to know?\n",
            "Chatbot: Is there anything else I can assist you with? (Yes/No): Yes\n",
            "You: are you male or female.\n",
            "Chatbot: Hello! I'm your professional chatbot.\n",
            "Chatbot: Is there anything else I can assist you with? (Yes/No): Yes\n",
            "You: No\n",
            "Chatbot: Hello! I'm your professional chatbot.\n",
            "Chatbot: Is there anything else I can assist you with? (Yes/No): No\n",
            "Chatbot: Okay, have a great day!\n"
          ]
        }
      ],
      "source": [
        "import re\n",
        "import random\n",
        "\n",
        "def message_probability(user_message, recognised_words, single_response=False, required_words=[]):\n",
        "    recognized_word_count = sum(1 for word in user_message if word in recognised_words)\n",
        "    if len(recognised_words) == 0:\n",
        "        return 0\n",
        "    percentage = recognized_word_count / len(recognised_words)\n",
        "    has_required_words = all(word in user_message for word in required_words)\n",
        "    if has_required_words or single_response:\n",
        "        return int(percentage * 100)\n",
        "    else:\n",
        "        return 0\n",
        "\n",
        "def check_all_messages(message):\n",
        "    highest_prob_list = {}\n",
        "    def response(bot_response, list_of_words, single_response=False, required_words=[]):\n",
        "        nonlocal highest_prob_list\n",
        "        if message:\n",
        "            highest_prob_list[bot_response] = message_probability(message, list_of_words, single_response, required_words)\n",
        "\n",
        "    response('Hello! I\\'m your professional chatbot.', ['hello', 'hi', 'hey', 'heyo'], single_response=True)\n",
        "    response('I am programmed to assist you with various tasks. How old are you?', ['want', 'can', 'do', 'you'], required_words=['age','want'])\n",
        "    response('As a chatbot, I don\\'t have a gender. What else would you like to know?', ['what', 'your', 'name'], required_words=['name'])\n",
        "    response('My name is Chatbot. How can I help you?', ['name', 'you'], required_words=['name'])\n",
        "    response('I am here to assist you 24/7. How can I help you today?', ['help', 'information'], required_words=['information'])\n",
        "    response('I\\'m sorry, I don\\'t understand that. Could you please rephrase?', ['support', 'troubleshooting'], required_words=['troubleshooting'])\n",
        "    response('Okay, have a great day!', [], single_response=True)\n",
        "\n",
        "    return max(highest_prob_list, key=highest_prob_list.get)\n",
        "\n",
        "def get_response(user_input):\n",
        "    split_message = re.split(r'\\s+|[,;?!.-]\\s*', user_input.lower())\n",
        "    response = check_all_messages(split_message)\n",
        "    return response\n",
        "\n",
        "def exit_prompt():\n",
        "    while True:\n",
        "        exit_input = input(\"Chatbot: Is there anything else I can assist you with? (Yes/No): \").lower()\n",
        "        if exit_input in ['yes', 'y']:\n",
        "            return False\n",
        "        elif exit_input in ['no', 'n']:\n",
        "            print(\"Chatbot: Okay, have a great day!\")\n",
        "            return True\n",
        "        else:\n",
        "            print(\"Chatbot: I'm sorry, I didn't understand that. Please enter 'Yes' or 'No'.\")\n",
        "\n",
        "print(\"Bot: Hi there! What can you do?\")\n",
        "\n",
        "while True:\n",
        "    user_input = input('You: ')\n",
        "    print('Chatbot:', get_response(user_input))\n",
        "    if exit_prompt():\n",
        "        break"
      ]
    }
  ]
}